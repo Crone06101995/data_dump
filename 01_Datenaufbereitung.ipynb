{
  "nbformat": 4,
  "nbformat_minor": 0,
  "metadata": {
    "colab": {
      "provenance": [],
      "toc_visible": true,
      "authorship_tag": "ABX9TyP27YcVvvhpJ28MgTulwPlZ",
      "include_colab_link": true
    },
    "kernelspec": {
      "name": "python3",
      "display_name": "Python 3"
    },
    "language_info": {
      "name": "python"
    }
  },
  "cells": [
    {
      "cell_type": "markdown",
      "metadata": {
        "id": "view-in-github",
        "colab_type": "text"
      },
      "source": [
        "<a href=\"https://colab.research.google.com/github/Crone06101995/data_dump/blob/main/01_Datenaufbereitung.ipynb\" target=\"_parent\"><img src=\"https://colab.research.google.com/assets/colab-badge.svg\" alt=\"Open In Colab\"/></a>"
      ]
    },
    {
      "cell_type": "markdown",
      "source": [
        "# **01. Datenaufbereitung**\n",
        "\n",
        "---\n",
        "---"
      ],
      "metadata": {
        "id": "Yo4jGJ1j352t"
      }
    },
    {
      "cell_type": "markdown",
      "source": [
        "## Daten Einlesen\n",
        "\n",
        "Die artifizielle CSV soll nun in dieses Skript **eingebunden** werden. \\\n",
        "Dafür ist zuerst der Import von Gosling nötig!"
      ],
      "metadata": {
        "id": "k-uGN3wl4dI0"
      }
    },
    {
      "cell_type": "markdown",
      "source": [
        "**Anmerkung:**\\\n",
        "Google Colaboratory ist ein Visualizer von *Jupyter-Notebooks* und funktioniert daher sehr ähnlich.\\\n",
        "Jedes *Colab* besteht aus Text-und Code-Zellen. Jeglicher Code in Python funktioniert in den Code-Zellen. In den Text-Zellen funktioniert jegliche Markdown-Systematik.\\\n",
        "In unserem Fall dienen *Google Colabs* als interaktives Tutorial mit leichter Handhabe von Hands-On Aufgaben."
      ],
      "metadata": {
        "id": "fDaRnXQO8nUl"
      }
    },
    {
      "cell_type": "code",
      "source": [
        "!pip install gosling==0.0.9\n",
        "import gosling as gos"
      ],
      "metadata": {
        "id": "b1Z1oYTo5C2N"
      },
      "execution_count": null,
      "outputs": []
    },
    {
      "cell_type": "markdown",
      "source": [
        "Gosling arbeitet auf Daten, die durch einen **HTTP-Zugang** öffentlich sind.\n",
        "Die CSV wurde in einem Git-Repository hochgeladen und als 'Raw'-Darstellung unter einem HTTP-Link hochgestellt. \\\n",
        "Es ist möglich, lokale Daten in Gosling einzuspeisen. Doch dafür muss ein **HiGlass Server** aufgestellt werden. Der 'Workaround', durch Hochladen der Daten zu GitHub-Repositories, scheint bis jetzt die beste Lösung für das Problem zu sein.\n",
        "\n",
        "Die Daten werden nun unter der Variable *data* abgespeichert und mit der Funktion *gos.csv* eingelesen.\n",
        "\n",
        "Auch BED-Daten werden mit der '.csv' Funktion geladen. Für andere Datenformate sind andere Methoden von Nöten. Genauere Information dieser Methoden ist hier zu finden:\n",
        "\n",
        "[Gosling-Data-Formate](http://gosling-lang.org/docs/data#csv-no-higlass-server) \\\n",
        "[Gos-API-Funktionen](https://gosling-lang.github.io/gos/user_guide/API.html)"
      ],
      "metadata": {
        "id": "ojg1hTB_5RP6"
      }
    },
    {
      "cell_type": "code",
      "source": [
        "data_url = \"https://raw.githubusercontent.com/Crone06101995/data_dump/main/artificial_barley_data.csv\"\n",
        "\n",
        "# Einbindung der Daten mithilfe der .csv Funktion\n",
        "data = gos.csv(\n",
        "    url=data_url,\n",
        "    separator=\";\",\n",
        "    chromosomeField=\"Chromosome\", # the column containing chromosome names\n",
        "    genomicFields=[\"chromStart\", \"chromEnd\"], # fields with (relative) genomic coordinates\n",
        ")\n",
        "\n",
        "# JSON unserer Daten\n",
        "data"
      ],
      "metadata": {
        "id": "1VtFSyjq2UpW"
      },
      "execution_count": null,
      "outputs": []
    },
    {
      "cell_type": "markdown",
      "source": [
        "**Anmerkung:**\n",
        "Unter der genauen Betrachtung des Datensatzes fällt auf, dass bestimmte Eigenschaften biologisch und systematisch keinen Sinn machen. Sie sind lediglich auf die Bedienbarkeit angepasst."
      ],
      "metadata": {
        "id": "dLz1oH8v5g0Z"
      }
    },
    {
      "cell_type": "markdown",
      "source": [
        "Die Daten sind nun eingelesen und sind zur Weiterverarbeitung bereit.\\\n",
        "Goslings zwei wichtigstens Funktionen sind **gos.Track** und **gos.View**.\n",
        "Diese Kernkomponenten sind Element jeder Visualisierung in Gosling.\n",
        "\n",
        "*gos.Track* transformiert Daten und setzt sie in visualisierbare Zusammenhänge. Hier werden zum Beispiel die Spalten und Datentypen für die Achsen oder auch die Visualisierungsform (Bar/Scatter/Histogram) gesetzt. \n",
        "\n",
        "<img src=\"https://github.com/gosling-lang/gos-example/blob/main/notebooks/tracks-views.jpeg?raw=1\"  width=\"70%\">\n",
        "\n",
        "\n",
        "*gos.view* setzt die einzelnen Tracks in einem Zusammenhang. Die Visualisierung mehrerer Tracks erfolgt durch die Gruppierung und Darstellungoptionen mit *gos.view*. Hier können *Tracks* miteinander verlinkt werden, wodurch man Interaktionen synchronisiert. Es werden zudem Höhe, Breite und Überschriften bestimmt und noch vieles mehr.\n",
        "\n",
        "Wir erstellen nun einen simplen *Track* eines Scatter Plots (*mark_point( )*) von unseren Daten und erklären die Spalte *chromStart* als Input für die X-Achsenwerte. Damit der Track angezeigt wird, benutzen wir *view()*."
      ],
      "metadata": {
        "id": "wx6w8rPQURdJ"
      }
    },
    {
      "cell_type": "code",
      "source": [
        "track = gos.Track(data)\n",
        "view = track.view()\n",
        "print(view)\n",
        "\n",
        "# Scatter plot mit \"chromStart\" als X-Achse\n",
        "track.mark_point().encode(\n",
        "    x=gos.X(\"chromStart:G\"),\n",
        ").view()"
      ],
      "metadata": {
        "id": "SdIs0SmHUQyB"
      },
      "execution_count": null,
      "outputs": []
    },
    {
      "cell_type": "markdown",
      "source": [
        "Der aufmerksame Tutorialnehmer hat womöglich Zweierlei bemerkt: \\\n",
        "\n",
        "Die **Chromosomen-Anzeige** oberhalb des Plots spiegelt die Chromosomen eines Menschen ab. In Gosling ist es möglich sechs Genome zu repräsentieren: \\\n",
        "*hg38, hg19, hg17, hg16, mm10, mm9*\\\n",
        "Die Anzeige kann auch durch *unknown* deaktiviert werden. Eingestellt wird die Anzeige mit der *assembly* Eigenschaft des *data_tracks* Instanz mithilfe der Funktion *gos.Assembly*.\\\n",
        "Leider ist unter den 6 möglichen Genomen nicht die Gerste zu finden...\\\n",
        "\n",
        "[Mehr Info](http://gosling-lang.org/docs/genome-builds/) \\\n",
        "[API](https://gosling-lang.github.io/gos/user_guide/generated/core/gosling.Assembly.html#gosling.Assembly)\n",
        "\n",
        "Weiterhin wurde bei der Wertevergabe für die X-Achse *:G* zusätzlich deklariert. Dies ist die Kurzform der **Typ-Vergabe** für die Daten. Jeder Werte-Input muss mit einem *type* vergeben werden. Dies kann entweder durch das Anfügen von einem Doppelpunkt und der Kurzform nach dem Spaltennamen passieren oder durch ein weiteres Feld (Zu sehen im nächsten Codesegment).\n",
        "\n",
        "| Datentyp | Kurzform | Eigenschaft |\n",
        "| --------- | -------------- | ----------- | \n",
        "| quantitative | Q | Kontinuierliche realwertige Quantitäten | \n",
        "| nominal | N | Diskrete ungeordnete Kategorien |\n",
        "| genomic | G | Genomische Basenposition |\n"
      ],
      "metadata": {
        "id": "k44OyLKPYFJZ"
      }
    },
    {
      "cell_type": "markdown",
      "source": [
        "In den nächsten Codesegmenten, werden die visuellen Unterschiede der Datentypen deutlich:"
      ],
      "metadata": {
        "id": "8mAaad0y-Kzk"
      }
    },
    {
      "cell_type": "code",
      "source": [
        "# genomischer Datentyp für Y-Achse\n",
        "track.mark_point().encode(\n",
        "    x=gos.X(\"chromStart:G\"), \n",
        "    y=gos.Y(\"chromStart:G\", axis=\"left\") # 'axis' gibt die Position der Achse im Plot an\n",
        ").view()"
      ],
      "metadata": {
        "id": "HliYwNSxBQza"
      },
      "execution_count": null,
      "outputs": []
    },
    {
      "cell_type": "code",
      "source": [
        "# quantitativer Datentyp für Y-Achse -> Wechsel der Diagonalen!\n",
        "track.mark_point().encode(\n",
        "    x=gos.X(\"chromStart:G\"), \n",
        "    y=gos.Y(\"chromStart:Q\", axis=\"left\") # 'axis' gibt die Position der Achse im Plot an\n",
        ").view()"
      ],
      "metadata": {
        "id": "tEvM4z4VCA3j"
      },
      "execution_count": null,
      "outputs": []
    },
    {
      "cell_type": "code",
      "source": [
        "# nominaler Datentyp für Y-Achse -> Aufspaltung in die einzelnen Labels in 'Location'\n",
        "gos.Track(data).mark_point().encode(\n",
        "    x=gos.X(\"chromStart:G\"),\n",
        "    y=gos.Y(\"Location:N\") # Benutzung eines nominalen Feldes 'Location'\n",
        ").view()"
      ],
      "metadata": {
        "id": "UcXa6_cECPGK"
      },
      "execution_count": null,
      "outputs": []
    },
    {
      "cell_type": "markdown",
      "source": [
        "---\n",
        "\n",
        "## Daten transformieren\n",
        "\n",
        "Im nächsten Schritt möchten wir unsere Daten **transformieren**. Dies kann man mit mehreren Methoden:\n",
        "- transform_filter()\n",
        "- transform_filter_not()\n",
        "- transform_exon_split()\n",
        "- transform_coverage()\n",
        "- transform_log()\n",
        "- transform_str_concat()\n",
        "- transform_str_replace() \\\n",
        "\n",
        "[Methoden](https://gosling-lang.github.io/gos/user_guide/generated/toplevel/gosling.Track.html#gosling.Track)\\\n",
        "[Wrapper](https://gosling-lang.github.io/gos/user_guide/API.html)\\\n",
        "[Liste an Filtern](http://gosling-lang.org/docs/data#data-transform)\n",
        "\n",
        "Damit können wir zB nominale Werte aus Spalten wie *Chromosome* filtern, die Coverage über eine Spalte berechnen, usw. \\"
      ],
      "metadata": {
        "id": "XYp0cgFhBRBB"
      }
    },
    {
      "cell_type": "markdown",
      "source": [
        "Wir filtern nun nach dem 1. Chromosom und möchten alle genomischen Varianten uns einzeigen lassen, außer die innerhalb von Codon-Regionen."
      ],
      "metadata": {
        "id": "0FayKlch-aT0"
      }
    },
    {
      "cell_type": "code",
      "source": [
        "# filter für chr1\n",
        "transformed_track = track.transform_filter(field=\"Chromosome\", oneOf=[\"chr1\"])\n",
        "# filtere codon Varianten raus\n",
        "transformed_track = transformed_track.transform_filter_not(field=\"Location\", oneOf=[\"codon\"])\n",
        "\n",
        "# zeige die gefilterten Daten\n",
        "transformed_track.mark_point().encode(\n",
        "    x=gos.X(\"chromStart\", type=\"genomic\"),\n",
        ").view()"
      ],
      "metadata": {
        "id": "kVj74omzUFbx"
      },
      "execution_count": null,
      "outputs": []
    },
    {
      "cell_type": "code",
      "source": [
        "# berechne coverage\n",
        "coverage_data = track.transform_coverage(startField=\"chromStart\", endField=\"chromEnd\", newField=\"cov\")\n",
        "\n",
        "# zeige die coverage als line plot\n",
        "coverage_data.mark_line().encode(\n",
        "    y=gos.Y(\"cov:Q\"),\n",
        "    x=gos.X(\"chromStart:G\")\n",
        ").view()"
      ],
      "metadata": {
        "id": "TSQxZcDwLx9l"
      },
      "execution_count": null,
      "outputs": []
    },
    {
      "cell_type": "markdown",
      "source": [
        "---\n",
        "\n",
        "## Erste Visualisierung (Hands On)\n",
        "\n",
        "Du hast nun alle Infos, um folgende Aufgabe selbst zu visualisieren.\n",
        "\n",
        "Benutze den Datensatz *data* und filtere ihn so, dass er nur noch Datenpunkte der Chromosomen 1, 3 und 5 besitzt. \\\n",
        "Dann filtere erneut nach \"Splice\" in der nominalen \"Location\"-Spalte unseres Datensatzes. \\\n",
        "Erstelle nun ein Scatter-Plot, welches die \"Location\" auf den genomischen Positionen darstellt. \\\n",
        "Vergesse nicht, dir den Track mit der *view( )* anzeigen zu lassen!\n",
        "\n",
        "- benutze *data*\n",
        "- filtere Chromosom 1,3,5\n",
        "  - .transform_filter()\n",
        "- filtere nach Spalte *Location* nach *splice* (Splice Sites)\n",
        "  - .transform_filter()\n",
        "- erstelle ein Scatter Plot\n",
        "  - .mark_point()\n",
        "- trage als X-Achse *chromStart* auf und als Y-Achse *Location* auf (achte auf die Types)\n",
        "  - .encode()\n",
        "  - gos.X()\n",
        "  - gos.Y()\n",
        "- lass dir deinen ersten Track darstellen\n",
        "  - .view()"
      ],
      "metadata": {
        "id": "ohlJ254yrH9S"
      }
    },
    {
      "cell_type": "code",
      "source": [
        "your_track = ... # nehme den data Track oder erstelle dir einen neuen\n",
        "\n",
        "your_tack = your_track.transform_filter( ... ) # filter nach Chr 1, 3, 5\n",
        "your_tack = your_track.transform_filter( ... ) # filter nach splice Sites\n",
        "\n",
        "your_track = your_track.mark_point().encode(\n",
        "    x=gos.X( ... ), # setze X-Achse\n",
        "    y=gos.Y( ... ), # setze Y-Achse\n",
        ")\n",
        "\n",
        "your_track.view() # visualisiere deinen track"
      ],
      "metadata": {
        "id": "EHa3r0IEs9q4"
      },
      "execution_count": null,
      "outputs": []
    },
    {
      "cell_type": "markdown",
      "source": [
        "---\n",
        "---\n",
        "\n",
        "Das Ende von Teiltutorial **01_Datenaufbereitung**. \\\n",
        "Hier findest du das nächste [Tutorial](https://colab.research.google.com/drive/1_-VCzxuDhxIDSPjx-S2mBZfkurWw7Dnr?usp=sharing)."
      ],
      "metadata": {
        "id": "OCpv5Akht8NR"
      }
    }
  ]
}