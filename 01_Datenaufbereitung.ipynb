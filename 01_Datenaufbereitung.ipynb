{
  "nbformat": 4,
  "nbformat_minor": 0,
  "metadata": {
    "colab": {
      "provenance": [],
      "toc_visible": true,
      "authorship_tag": "ABX9TyP27YcVvvhpJ28MgTulwPlZ",
      "include_colab_link": true
    },
    "kernelspec": {
      "name": "python3",
      "display_name": "Python 3"
    },
    "language_info": {
      "name": "python"
    }
  },
  "cells": [
    {
      "cell_type": "markdown",
      "metadata": {
        "id": "view-in-github",
        "colab_type": "text"
      },
      "source": [
        "<a href=\"https://colab.research.google.com/github/Crone06101995/data_dump/blob/main/01_Datenaufbereitung.ipynb\" target=\"_parent\"><img src=\"https://colab.research.google.com/assets/colab-badge.svg\" alt=\"Open In Colab\"/></a>"
      ]
    },
    {
      "cell_type": "markdown",
      "source": [
        "# **01. Datenaufbereitung**\n",
        "\n",
        "---\n",
        "---"
      ],
      "metadata": {
        "id": "Yo4jGJ1j352t"
      }
    },
    {
      "cell_type": "markdown",
      "source": [
        "## Daten Einlesen\n",
        "\n",
        "Die artifizielle CSV soll nun in dieses Skript **eingebunden** werden. \\\n",
        "Dafür ist zuerst der Import von Gosling nötig!"
      ],
      "metadata": {
        "id": "k-uGN3wl4dI0"
      }
    },
    {
      "cell_type": "markdown",
      "source": [
        "**Anmerkung:**\\\n",
        "Google Colaboratory ist ein Visualizer von *Jupyter-Notebooks* und funktioniert daher sehr ähnlich.\\\n",
        "Jedes *Colab* besteht aus Text-und Code-Zellen. Jeglicher Code in Python funktioniert in den Code-Zellen. In den Text-Zellen funktioniert jegliche Markdown-Systematik.\\\n",
        "In unserem Fall dienen *Google Colabs* als interaktives Tutorial mit leichter Handhabe von Hands-On Aufgaben."
      ],
      "metadata": {
        "id": "fDaRnXQO8nUl"
      }
    },
    {
      "cell_type": "code",
      "source": [
        "!pip install gosling==0.0.9\n",
        "import gosling as gos"
      ],
      "metadata": {
        "colab": {
          "base_uri": "https://localhost:8080/"
        },
        "id": "b1Z1oYTo5C2N",
        "outputId": "3a600b1e-4376-40fe-bc14-6f7509a616db"
      },
      "execution_count": null,
      "outputs": [
        {
          "output_type": "stream",
          "name": "stdout",
          "text": [
            "Looking in indexes: https://pypi.org/simple, https://us-python.pkg.dev/colab-wheels/public/simple/\n",
            "Collecting gosling==0.0.9\n",
            "  Downloading gosling-0.0.9-py3-none-any.whl (83 kB)\n",
            "\u001b[2K     \u001b[90m━━━━━━━━━━━━━━━━━━━━━━━━━━━━━━━━━━━━━━━━\u001b[0m \u001b[32m83.4/83.4 KB\u001b[0m \u001b[31m2.1 MB/s\u001b[0m eta \u001b[36m0:00:00\u001b[0m\n",
            "\u001b[?25hRequirement already satisfied: pandas in /usr/local/lib/python3.9/dist-packages (from gosling==0.0.9) (1.3.5)\n",
            "Collecting jsonschema<4.0,>=3.0\n",
            "  Downloading jsonschema-3.2.0-py2.py3-none-any.whl (56 kB)\n",
            "\u001b[2K     \u001b[90m━━━━━━━━━━━━━━━━━━━━━━━━━━━━━━━━━━━━━━━━\u001b[0m \u001b[32m56.3/56.3 KB\u001b[0m \u001b[31m3.5 MB/s\u001b[0m eta \u001b[36m0:00:00\u001b[0m\n",
            "\u001b[?25hRequirement already satisfied: jinja2 in /usr/local/lib/python3.9/dist-packages (from gosling==0.0.9) (3.1.2)\n",
            "Requirement already satisfied: six>=1.11.0 in /usr/local/lib/python3.9/dist-packages (from jsonschema<4.0,>=3.0->gosling==0.0.9) (1.15.0)\n",
            "Requirement already satisfied: attrs>=17.4.0 in /usr/local/lib/python3.9/dist-packages (from jsonschema<4.0,>=3.0->gosling==0.0.9) (22.2.0)\n",
            "Requirement already satisfied: setuptools in /usr/local/lib/python3.9/dist-packages (from jsonschema<4.0,>=3.0->gosling==0.0.9) (57.4.0)\n",
            "Requirement already satisfied: pyrsistent>=0.14.0 in /usr/local/lib/python3.9/dist-packages (from jsonschema<4.0,>=3.0->gosling==0.0.9) (0.19.3)\n",
            "Requirement already satisfied: MarkupSafe>=2.0 in /usr/local/lib/python3.9/dist-packages (from jinja2->gosling==0.0.9) (2.1.2)\n",
            "Requirement already satisfied: python-dateutil>=2.7.3 in /usr/local/lib/python3.9/dist-packages (from pandas->gosling==0.0.9) (2.8.2)\n",
            "Requirement already satisfied: pytz>=2017.3 in /usr/local/lib/python3.9/dist-packages (from pandas->gosling==0.0.9) (2022.7.1)\n",
            "Requirement already satisfied: numpy>=1.17.3 in /usr/local/lib/python3.9/dist-packages (from pandas->gosling==0.0.9) (1.22.4)\n",
            "Installing collected packages: jsonschema, gosling\n",
            "  Attempting uninstall: jsonschema\n",
            "    Found existing installation: jsonschema 4.3.3\n",
            "    Uninstalling jsonschema-4.3.3:\n",
            "      Successfully uninstalled jsonschema-4.3.3\n",
            "Successfully installed gosling-0.0.9 jsonschema-3.2.0\n"
          ]
        }
      ]
    },
    {
      "cell_type": "markdown",
      "source": [
        "Gosling arbeitet auf Daten, die durch einen **HTTP-Zugang** öffentlich sind.\n",
        "Die CSV wurde in einem Git-Repository hochgeladen und als 'Raw'-Darstellung unter einem HTTP-Link hochgestellt. \\\n",
        "Es ist möglich, lokale Daten in Gosling einzuspeisen. Doch dafür muss ein **HiGlass Server** aufgestellt werden. Der 'Workaround', durch Hochladen der Daten zu GitHub-Repositories, scheint bis jetzt die beste Lösung für das Problem zu sein.\n",
        "\n",
        "Die Daten werden nun unter der Variable *data* abgespeichert und mit der Funktion *gos.csv* eingelesen.\n",
        "\n",
        "Auch BED-Daten werden mit der '.csv' Funktion geladen. Für andere Datenformate sind andere Methoden von Nöten. Genauere Information dieser Methoden ist hier zu finden:\n",
        "\n",
        "[Gosling-Data-Formate](http://gosling-lang.org/docs/data#csv-no-higlass-server) \\\n",
        "[Gos-API-Funktionen](https://gosling-lang.github.io/gos/user_guide/API.html)"
      ],
      "metadata": {
        "id": "ojg1hTB_5RP6"
      }
    },
    {
      "cell_type": "code",
      "source": [
        "data_url = \"https://raw.githubusercontent.com/Crone06101995/data_dump/main/artificial_barley_data.csv\"\n",
        "\n",
        "# Einbindung der Daten mithilfe der .csv Funktion\n",
        "data = gos.csv(\n",
        "    url=data_url,\n",
        "    separator=\";\",\n",
        "    chromosomeField=\"Chromosome\", # the column containing chromosome names\n",
        "    genomicFields=[\"chromStart\", \"chromEnd\"], # fields with (relative) genomic coordinates\n",
        ")\n",
        "\n",
        "# JSON unserer Daten\n",
        "data"
      ],
      "metadata": {
        "colab": {
          "base_uri": "https://localhost:8080/"
        },
        "id": "1VtFSyjq2UpW",
        "outputId": "2a521781-f172-4310-9912-11cd8c38b71f"
      },
      "execution_count": null,
      "outputs": [
        {
          "output_type": "execute_result",
          "data": {
            "text/plain": [
              "{'type': 'csv',\n",
              " 'url': 'https://raw.githubusercontent.com/Crone06101995/data_dump/main/artificial_barley_data.csv',\n",
              " 'separator': ';',\n",
              " 'chromosomeField': 'Chromosome',\n",
              " 'genomicFields': ['chromStart', 'chromEnd']}"
            ]
          },
          "metadata": {},
          "execution_count": 3
        }
      ]
    },
    {
      "cell_type": "markdown",
      "source": [
        "**Anmerkung:**\n",
        "Unter der genauen Betrachtung des Datensatzes fällt auf, dass bestimmte Eigenschaften biologisch und systematisch keinen Sinn machen. Sie sind lediglich auf die Bedienbarkeit angepasst."
      ],
      "metadata": {
        "id": "dLz1oH8v5g0Z"
      }
    },
    {
      "cell_type": "markdown",
      "source": [
        "Die Daten sind nun eingelesen und sind zur Weiterverarbeitung bereit.\\\n",
        "Goslings zwei wichtigstens Funktionen sind **gos.Track** und **gos.View**.\n",
        "Diese Kernkomponenten sind Element jeder Visualisierung in Gosling.\n",
        "\n",
        "*gos.Track* transformiert Daten und setzt sie in visualisierbare Zusammenhänge. Hier werden zum Beispiel die Spalten und Datentypen für die Achsen oder auch die Visualisierungsform (Bar/Scatter/Histogram) gesetzt. \n",
        "\n",
        "<img src=\"https://github.com/gosling-lang/gos-example/blob/main/notebooks/tracks-views.jpeg?raw=1\"  width=\"70%\">\n",
        "\n",
        "\n",
        "*gos.view* setzt die einzelnen Tracks in einem Zusammenhang. Die Visualisierung mehrerer Tracks erfolgt durch die Gruppierung und Darstellungoptionen mit *gos.view*. Hier können *Tracks* miteinander verlinkt werden, wodurch man Interaktionen synchronisiert. Es werden zudem Höhe, Breite und Überschriften bestimmt und noch vieles mehr.\n",
        "\n",
        "Wir erstellen nun einen simplen *Track* eines Scatter Plots (*mark_point( )*) von unseren Daten und erklären die Spalte *chromStart* als Input für die X-Achsenwerte. Damit der Track angezeigt wird, benutzen wir *view()*."
      ],
      "metadata": {
        "id": "wx6w8rPQURdJ"
      }
    },
    {
      "cell_type": "code",
      "source": [
        "track = gos.Track(data)\n",
        "view = track.view()\n",
        "print(view)\n",
        "\n",
        "# Scatter plot mit \"chromStart\" als X-Achse\n",
        "track.mark_point().encode(\n",
        "    x=gos.X(\"chromStart:G\"),\n",
        ").view()"
      ],
      "metadata": {
        "colab": {
          "base_uri": "https://localhost:8080/",
          "height": 366
        },
        "id": "SdIs0SmHUQyB",
        "outputId": "4b5d883a-b68d-481c-ebe3-1b4201eeff72"
      },
      "execution_count": null,
      "outputs": [
        {
          "output_type": "stream",
          "name": "stdout",
          "text": [
            "View({\n",
            "  tracks: [Track({\n",
            "    data: {'type': 'csv', 'url': 'https://raw.githubusercontent.com/Crone06101995/data_dump/main/artificial_barley_data.csv', 'separator': ';', 'chromosomeField': 'Chromosome', 'genomicFields': ['chromStart', 'chromEnd']},\n",
            "    height: 180,\n",
            "    mark: 'bar',\n",
            "    width: 800\n",
            "  })]\n",
            "})\n"
          ]
        },
        {
          "output_type": "execute_result",
          "data": {
            "text/html": [
              "\n",
              "<!DOCTYPE html>\n",
              "<html>\n",
              "<head>\n",
              "  <style>.error { color: red; }</style>\n",
              "  <link rel=\"stylesheet\" href=\"https://unpkg.com/higlass@1.11/dist/hglib.css\">\n",
              "</head>\n",
              "<body>\n",
              "  <div id=\"jupyter-gosling-b7e0a054a3f74b3491c3a278f450a4c1\"></div>\n",
              "  <script type=\"module\">\n",
              "\n",
              "    async function loadScript(src) {\n",
              "        return new Promise(resolve => {\n",
              "            const script = document.createElement('script');\n",
              "            script.onload = resolve;\n",
              "            script.src = src;\n",
              "            script.async = false;\n",
              "            document.head.appendChild(script);\n",
              "        });\n",
              "    }\n",
              "\n",
              "    async function loadGosling() {\n",
              "        // Manually load scripts from window namespace since requirejs might not be\n",
              "        // available in all browser environments.\n",
              "\n",
              "        // https://github.com/DanielHreben/requirejs-toggle\n",
              "        if (!window.gosling) {\n",
              "\n",
              "            // https://github.com/DanielHreben/requirejs-toggle\n",
              "            window.__requirejsToggleBackup = {\n",
              "                define: window.define,\n",
              "                require: window.require,\n",
              "                requirejs: window.requirejs,\n",
              "            };\n",
              "\n",
              "            for (const field of Object.keys(window.__requirejsToggleBackup)) {\n",
              "                window[field] = undefined;\n",
              "            }\n",
              "\n",
              "            // load dependencies sequentially\n",
              "            const sources = [\n",
              "                \"https://unpkg.com/react@17/umd/react.production.min.js\",\n",
              "                \"https://unpkg.com/react-dom@17/umd/react-dom.production.min.js\",\n",
              "                \"https://unpkg.com/pixi.js@6/dist/browser/pixi.min.js\",\n",
              "                \"https://unpkg.com/higlass@1.11/dist/hglib.js\",\n",
              "                \"https://unpkg.com/gosling.js@0.9.20/dist/gosling.js\",\n",
              "            ];\n",
              "\n",
              "            for (const src of sources) await loadScript(src);\n",
              "\n",
              "            // restore requirejs after scripts have loaded\n",
              "            Object.assign(window, window.__requirejsToggleBackup);\n",
              "            delete window.__requirejsToggleBackup;\n",
              "\n",
              "        }\n",
              "\n",
              "        return window.gosling;\n",
              "    };\n",
              "\n",
              "    var el = document.getElementById('jupyter-gosling-b7e0a054a3f74b3491c3a278f450a4c1');\n",
              "    var spec = {\"tracks\": [{\"data\": {\"type\": \"csv\", \"url\": \"https://raw.githubusercontent.com/Crone06101995/data_dump/main/artificial_barley_data.csv\", \"separator\": \";\", \"chromosomeField\": \"Chromosome\", \"genomicFields\": [\"chromStart\", \"chromEnd\"]}, \"height\": 180, \"mark\": \"point\", \"width\": 800, \"x\": {\"field\": \"chromStart\", \"type\": \"genomic\"}}]};\n",
              "    var opt = {\"padding\": 0, \"theme\": null};\n",
              "\n",
              "    loadGosling()\n",
              "        .then(gosling => gosling.embed(el, spec, opt))\n",
              "        .catch(err => {\n",
              "            el.innerHTML = `<div class=\"error\">\n",
              "    <p>JavaScript Error: ${error.message}</p>\n",
              "    <p>This usually means there's a typo in your Gosling specification. See the javascript console for the full traceback.</p>\n",
              "</div>`;\n",
              "            throw error;\n",
              "        });\n",
              "  </script>\n",
              "</body>\n",
              "</html>"
            ],
            "text/plain": [
              "View({\n",
              "  tracks: [Track({\n",
              "    data: {'type': 'csv', 'url': 'https://raw.githubusercontent.com/Crone06101995/data_dump/main/artificial_barley_data.csv', 'separator': ';', 'chromosomeField': 'Chromosome', 'genomicFields': ['chromStart', 'chromEnd']},\n",
              "    height: 180,\n",
              "    mark: 'point',\n",
              "    width: 800,\n",
              "    x: X({\n",
              "      field: 'chromStart',\n",
              "      type: 'genomic'\n",
              "    })\n",
              "  })]\n",
              "})"
            ]
          },
          "metadata": {},
          "execution_count": 4
        }
      ]
    },
    {
      "cell_type": "markdown",
      "source": [
        "Der aufmerksame Tutorialnehmer hat womöglich Zweierlei bemerkt: \\\n",
        "\n",
        "Die **Chromosomen-Anzeige** oberhalb des Plots spiegelt die Chromosomen eines Menschen ab. In Gosling ist es möglich sechs Genome zu repräsentieren: \\\n",
        "*hg38, hg19, hg17, hg16, mm10, mm9*\\\n",
        "Die Anzeige kann auch durch *unknown* deaktiviert werden. Eingestellt wird die Anzeige mit der *assembly* Eigenschaft des *data_tracks* Instanz mithilfe der Funktion *gos.Assembly*.\\\n",
        "Leider ist unter den 6 möglichen Genomen nicht die Gerste zu finden...\\\n",
        "\n",
        "[Mehr Info](http://gosling-lang.org/docs/genome-builds/) \\\n",
        "[API](https://gosling-lang.github.io/gos/user_guide/generated/core/gosling.Assembly.html#gosling.Assembly)\n",
        "\n",
        "Weiterhin wurde bei der Wertevergabe für die X-Achse *:G* zusätzlich deklariert. Dies ist die Kurzform der **Typ-Vergabe** für die Daten. Jeder Werte-Input muss mit einem *type* vergeben werden. Dies kann entweder durch das Anfügen von einem Doppelpunkt und der Kurzform nach dem Spaltennamen passieren oder durch ein weiteres Feld (Zu sehen im nächsten Codesegment).\n",
        "\n",
        "| Datentyp | Kurzform | Eigenschaft |\n",
        "| --------- | -------------- | ----------- | \n",
        "| quantitative | Q | Kontinuierliche realwertige Quantitäten | \n",
        "| nominal | N | Diskrete ungeordnete Kategorien |\n",
        "| genomic | G | Genomische Basenposition |\n"
      ],
      "metadata": {
        "id": "k44OyLKPYFJZ"
      }
    },
    {
      "cell_type": "markdown",
      "source": [
        "In den nächsten Codesegmenten, werden die visuellen Unterschiede der Datentypen deutlich:"
      ],
      "metadata": {
        "id": "8mAaad0y-Kzk"
      }
    },
    {
      "cell_type": "code",
      "source": [
        "# genomischer Datentyp für Y-Achse\n",
        "track.mark_point().encode(\n",
        "    x=gos.X(\"chromStart:G\"), \n",
        "    y=gos.Y(\"chromStart:G\", axis=\"left\") # 'axis' gibt die Position der Achse im Plot an\n",
        ").view()"
      ],
      "metadata": {
        "colab": {
          "base_uri": "https://localhost:8080/",
          "height": 227
        },
        "id": "HliYwNSxBQza",
        "outputId": "e9a18534-1983-4d05-8ece-ef96bc40584a"
      },
      "execution_count": null,
      "outputs": [
        {
          "output_type": "execute_result",
          "data": {
            "text/html": [
              "\n",
              "<!DOCTYPE html>\n",
              "<html>\n",
              "<head>\n",
              "  <style>.error { color: red; }</style>\n",
              "  <link rel=\"stylesheet\" href=\"https://unpkg.com/higlass@1.11/dist/hglib.css\">\n",
              "</head>\n",
              "<body>\n",
              "  <div id=\"jupyter-gosling-c749a85910cb4a148fcbfd37130eee98\"></div>\n",
              "  <script type=\"module\">\n",
              "\n",
              "    async function loadScript(src) {\n",
              "        return new Promise(resolve => {\n",
              "            const script = document.createElement('script');\n",
              "            script.onload = resolve;\n",
              "            script.src = src;\n",
              "            script.async = false;\n",
              "            document.head.appendChild(script);\n",
              "        });\n",
              "    }\n",
              "\n",
              "    async function loadGosling() {\n",
              "        // Manually load scripts from window namespace since requirejs might not be\n",
              "        // available in all browser environments.\n",
              "\n",
              "        // https://github.com/DanielHreben/requirejs-toggle\n",
              "        if (!window.gosling) {\n",
              "\n",
              "            // https://github.com/DanielHreben/requirejs-toggle\n",
              "            window.__requirejsToggleBackup = {\n",
              "                define: window.define,\n",
              "                require: window.require,\n",
              "                requirejs: window.requirejs,\n",
              "            };\n",
              "\n",
              "            for (const field of Object.keys(window.__requirejsToggleBackup)) {\n",
              "                window[field] = undefined;\n",
              "            }\n",
              "\n",
              "            // load dependencies sequentially\n",
              "            const sources = [\n",
              "                \"https://unpkg.com/react@17/umd/react.production.min.js\",\n",
              "                \"https://unpkg.com/react-dom@17/umd/react-dom.production.min.js\",\n",
              "                \"https://unpkg.com/pixi.js@6/dist/browser/pixi.min.js\",\n",
              "                \"https://unpkg.com/higlass@1.11/dist/hglib.js\",\n",
              "                \"https://unpkg.com/gosling.js@0.9.20/dist/gosling.js\",\n",
              "            ];\n",
              "\n",
              "            for (const src of sources) await loadScript(src);\n",
              "\n",
              "            // restore requirejs after scripts have loaded\n",
              "            Object.assign(window, window.__requirejsToggleBackup);\n",
              "            delete window.__requirejsToggleBackup;\n",
              "\n",
              "        }\n",
              "\n",
              "        return window.gosling;\n",
              "    };\n",
              "\n",
              "    var el = document.getElementById('jupyter-gosling-c749a85910cb4a148fcbfd37130eee98');\n",
              "    var spec = {\"tracks\": [{\"data\": {\"type\": \"csv\", \"url\": \"https://raw.githubusercontent.com/Crone06101995/data_dump/main/artificial_barley_data.csv\", \"separator\": \";\", \"chromosomeField\": \"Chromosome\", \"genomicFields\": [\"chromStart\", \"chromEnd\"]}, \"height\": 180, \"mark\": \"point\", \"width\": 800, \"x\": {\"field\": \"chromStart\", \"type\": \"genomic\"}, \"y\": {\"axis\": \"left\", \"field\": \"chromStart\", \"type\": \"genomic\"}}]};\n",
              "    var opt = {\"padding\": 0, \"theme\": null};\n",
              "\n",
              "    loadGosling()\n",
              "        .then(gosling => gosling.embed(el, spec, opt))\n",
              "        .catch(err => {\n",
              "            el.innerHTML = `<div class=\"error\">\n",
              "    <p>JavaScript Error: ${error.message}</p>\n",
              "    <p>This usually means there's a typo in your Gosling specification. See the javascript console for the full traceback.</p>\n",
              "</div>`;\n",
              "            throw error;\n",
              "        });\n",
              "  </script>\n",
              "</body>\n",
              "</html>"
            ],
            "text/plain": [
              "View({\n",
              "  tracks: [Track({\n",
              "    data: {'type': 'csv', 'url': 'https://raw.githubusercontent.com/Crone06101995/data_dump/main/artificial_barley_data.csv', 'separator': ';', 'chromosomeField': 'Chromosome', 'genomicFields': ['chromStart', 'chromEnd']},\n",
              "    height: 180,\n",
              "    mark: 'point',\n",
              "    width: 800,\n",
              "    x: X({\n",
              "      field: 'chromStart',\n",
              "      type: 'genomic'\n",
              "    }),\n",
              "    y: Y({\n",
              "      axis: 'left',\n",
              "      field: 'chromStart',\n",
              "      type: 'genomic'\n",
              "    })\n",
              "  })]\n",
              "})"
            ]
          },
          "metadata": {},
          "execution_count": 7
        }
      ]
    },
    {
      "cell_type": "code",
      "source": [
        "# quantitativer Datentyp für Y-Achse -> Wechsel der Diagonalen!\n",
        "track.mark_point().encode(\n",
        "    x=gos.X(\"chromStart:G\"), \n",
        "    y=gos.Y(\"chromStart:Q\", axis=\"left\") # 'axis' gibt die Position der Achse im Plot an\n",
        ").view()"
      ],
      "metadata": {
        "colab": {
          "base_uri": "https://localhost:8080/",
          "height": 227
        },
        "id": "tEvM4z4VCA3j",
        "outputId": "e40a8649-2670-499a-fdc5-c115a3ffabe7"
      },
      "execution_count": null,
      "outputs": [
        {
          "output_type": "execute_result",
          "data": {
            "text/html": [
              "\n",
              "<!DOCTYPE html>\n",
              "<html>\n",
              "<head>\n",
              "  <style>.error { color: red; }</style>\n",
              "  <link rel=\"stylesheet\" href=\"https://unpkg.com/higlass@1.11/dist/hglib.css\">\n",
              "</head>\n",
              "<body>\n",
              "  <div id=\"jupyter-gosling-8a028798b24743e8a400199526ac8cea\"></div>\n",
              "  <script type=\"module\">\n",
              "\n",
              "    async function loadScript(src) {\n",
              "        return new Promise(resolve => {\n",
              "            const script = document.createElement('script');\n",
              "            script.onload = resolve;\n",
              "            script.src = src;\n",
              "            script.async = false;\n",
              "            document.head.appendChild(script);\n",
              "        });\n",
              "    }\n",
              "\n",
              "    async function loadGosling() {\n",
              "        // Manually load scripts from window namespace since requirejs might not be\n",
              "        // available in all browser environments.\n",
              "\n",
              "        // https://github.com/DanielHreben/requirejs-toggle\n",
              "        if (!window.gosling) {\n",
              "\n",
              "            // https://github.com/DanielHreben/requirejs-toggle\n",
              "            window.__requirejsToggleBackup = {\n",
              "                define: window.define,\n",
              "                require: window.require,\n",
              "                requirejs: window.requirejs,\n",
              "            };\n",
              "\n",
              "            for (const field of Object.keys(window.__requirejsToggleBackup)) {\n",
              "                window[field] = undefined;\n",
              "            }\n",
              "\n",
              "            // load dependencies sequentially\n",
              "            const sources = [\n",
              "                \"https://unpkg.com/react@17/umd/react.production.min.js\",\n",
              "                \"https://unpkg.com/react-dom@17/umd/react-dom.production.min.js\",\n",
              "                \"https://unpkg.com/pixi.js@6/dist/browser/pixi.min.js\",\n",
              "                \"https://unpkg.com/higlass@1.11/dist/hglib.js\",\n",
              "                \"https://unpkg.com/gosling.js@0.9.20/dist/gosling.js\",\n",
              "            ];\n",
              "\n",
              "            for (const src of sources) await loadScript(src);\n",
              "\n",
              "            // restore requirejs after scripts have loaded\n",
              "            Object.assign(window, window.__requirejsToggleBackup);\n",
              "            delete window.__requirejsToggleBackup;\n",
              "\n",
              "        }\n",
              "\n",
              "        return window.gosling;\n",
              "    };\n",
              "\n",
              "    var el = document.getElementById('jupyter-gosling-8a028798b24743e8a400199526ac8cea');\n",
              "    var spec = {\"tracks\": [{\"data\": {\"type\": \"csv\", \"url\": \"https://raw.githubusercontent.com/Crone06101995/data_dump/main/artificial_barley_data.csv\", \"separator\": \";\", \"chromosomeField\": \"Chromosome\", \"genomicFields\": [\"chromStart\", \"chromEnd\"]}, \"height\": 180, \"mark\": \"point\", \"width\": 800, \"x\": {\"field\": \"chromStart\", \"type\": \"genomic\"}, \"y\": {\"axis\": \"left\", \"field\": \"chromStart\", \"type\": \"quantitative\"}}]};\n",
              "    var opt = {\"padding\": 0, \"theme\": null};\n",
              "\n",
              "    loadGosling()\n",
              "        .then(gosling => gosling.embed(el, spec, opt))\n",
              "        .catch(err => {\n",
              "            el.innerHTML = `<div class=\"error\">\n",
              "    <p>JavaScript Error: ${error.message}</p>\n",
              "    <p>This usually means there's a typo in your Gosling specification. See the javascript console for the full traceback.</p>\n",
              "</div>`;\n",
              "            throw error;\n",
              "        });\n",
              "  </script>\n",
              "</body>\n",
              "</html>"
            ],
            "text/plain": [
              "View({\n",
              "  tracks: [Track({\n",
              "    data: {'type': 'csv', 'url': 'https://raw.githubusercontent.com/Crone06101995/data_dump/main/artificial_barley_data.csv', 'separator': ';', 'chromosomeField': 'Chromosome', 'genomicFields': ['chromStart', 'chromEnd']},\n",
              "    height: 180,\n",
              "    mark: 'point',\n",
              "    width: 800,\n",
              "    x: X({\n",
              "      field: 'chromStart',\n",
              "      type: 'genomic'\n",
              "    }),\n",
              "    y: Y({\n",
              "      axis: 'left',\n",
              "      field: 'chromStart',\n",
              "      type: 'quantitative'\n",
              "    })\n",
              "  })]\n",
              "})"
            ]
          },
          "metadata": {},
          "execution_count": 8
        }
      ]
    },
    {
      "cell_type": "code",
      "source": [
        "# nominaler Datentyp für Y-Achse -> Aufspaltung in die einzelnen Labels in 'Location'\n",
        "gos.Track(data).mark_point().encode(\n",
        "    x=gos.X(\"chromStart:G\"),\n",
        "    y=gos.Y(\"Location:N\") # Benutzung eines nominalen Feldes 'Location'\n",
        ").view()"
      ],
      "metadata": {
        "colab": {
          "base_uri": "https://localhost:8080/",
          "height": 235
        },
        "id": "UcXa6_cECPGK",
        "outputId": "9ae9cda5-d948-408a-d9a9-418fdfe80c40"
      },
      "execution_count": null,
      "outputs": [
        {
          "output_type": "error",
          "ename": "NameError",
          "evalue": "ignored",
          "traceback": [
            "\u001b[0;31m---------------------------------------------------------------------------\u001b[0m",
            "\u001b[0;31mNameError\u001b[0m                                 Traceback (most recent call last)",
            "\u001b[0;32m<ipython-input-1-a00089dcc849>\u001b[0m in \u001b[0;36m<cell line: 2>\u001b[0;34m()\u001b[0m\n\u001b[1;32m      1\u001b[0m \u001b[0;31m# nominaler Datentyp für Y-Achse -> Aufspaltung in die einzelnen Labels in 'Location'\u001b[0m\u001b[0;34m\u001b[0m\u001b[0;34m\u001b[0m\u001b[0m\n\u001b[0;32m----> 2\u001b[0;31m gos.Track(data).mark_point().encode(\n\u001b[0m\u001b[1;32m      3\u001b[0m     \u001b[0mx\u001b[0m\u001b[0;34m=\u001b[0m\u001b[0mgos\u001b[0m\u001b[0;34m.\u001b[0m\u001b[0mX\u001b[0m\u001b[0;34m(\u001b[0m\u001b[0;34m\"chromStart:G\"\u001b[0m\u001b[0;34m)\u001b[0m\u001b[0;34m,\u001b[0m\u001b[0;34m\u001b[0m\u001b[0;34m\u001b[0m\u001b[0m\n\u001b[1;32m      4\u001b[0m     \u001b[0my\u001b[0m\u001b[0;34m=\u001b[0m\u001b[0mgos\u001b[0m\u001b[0;34m.\u001b[0m\u001b[0mY\u001b[0m\u001b[0;34m(\u001b[0m\u001b[0;34m\"Location:N\"\u001b[0m\u001b[0;34m)\u001b[0m \u001b[0;31m# Benutzung eines nominalen Feldes 'Location'\u001b[0m\u001b[0;34m\u001b[0m\u001b[0;34m\u001b[0m\u001b[0m\n\u001b[1;32m      5\u001b[0m ).view()\n",
            "\u001b[0;31mNameError\u001b[0m: name 'gos' is not defined"
          ]
        }
      ]
    },
    {
      "cell_type": "markdown",
      "source": [
        "---\n",
        "\n",
        "## Daten transformieren\n",
        "\n",
        "Im nächsten Schritt möchten wir unsere Daten **transformieren**. Dies kann man mit mehreren Methoden:\n",
        "- transform_filter()\n",
        "- transform_filter_not()\n",
        "- transform_exon_split()\n",
        "- transform_coverage()\n",
        "- transform_log()\n",
        "- transform_str_concat()\n",
        "- transform_str_replace() \\\n",
        "\n",
        "[Methoden](https://gosling-lang.github.io/gos/user_guide/generated/toplevel/gosling.Track.html#gosling.Track)\\\n",
        "[Wrapper](https://gosling-lang.github.io/gos/user_guide/API.html)\\\n",
        "[Liste an Filtern](http://gosling-lang.org/docs/data#data-transform)\n",
        "\n",
        "Damit können wir zB nominale Werte aus Spalten wie *Chromosome* filtern, die Coverage über eine Spalte berechnen, usw. \\"
      ],
      "metadata": {
        "id": "XYp0cgFhBRBB"
      }
    },
    {
      "cell_type": "markdown",
      "source": [
        "Wir filtern nun nach dem 1. Chromosom und möchten alle genomischen Varianten uns einzeigen lassen, außer die innerhalb von Codon-Regionen."
      ],
      "metadata": {
        "id": "0FayKlch-aT0"
      }
    },
    {
      "cell_type": "code",
      "source": [
        "# filter für chr1\n",
        "transformed_track = track.transform_filter(field=\"Chromosome\", oneOf=[\"chr1\"])\n",
        "# filtere codon Varianten raus\n",
        "transformed_track = transformed_track.transform_filter_not(field=\"Location\", oneOf=[\"codon\"])\n",
        "\n",
        "# zeige die gefilterten Daten\n",
        "transformed_track.mark_point().encode(\n",
        "    x=gos.X(\"chromStart\", type=\"genomic\"),\n",
        ").view()"
      ],
      "metadata": {
        "colab": {
          "base_uri": "https://localhost:8080/",
          "height": 227
        },
        "id": "kVj74omzUFbx",
        "outputId": "a640b3fb-010a-49ee-eca2-3cfdd01d7768"
      },
      "execution_count": null,
      "outputs": [
        {
          "output_type": "execute_result",
          "data": {
            "text/html": [
              "\n",
              "<!DOCTYPE html>\n",
              "<html>\n",
              "<head>\n",
              "  <style>.error { color: red; }</style>\n",
              "  <link rel=\"stylesheet\" href=\"https://unpkg.com/higlass@1.11/dist/hglib.css\">\n",
              "</head>\n",
              "<body>\n",
              "  <div id=\"jupyter-gosling-76771d29826d41df9acbaedbd4f2491f\"></div>\n",
              "  <script type=\"module\">\n",
              "\n",
              "    async function loadScript(src) {\n",
              "        return new Promise(resolve => {\n",
              "            const script = document.createElement('script');\n",
              "            script.onload = resolve;\n",
              "            script.src = src;\n",
              "            script.async = false;\n",
              "            document.head.appendChild(script);\n",
              "        });\n",
              "    }\n",
              "\n",
              "    async function loadGosling() {\n",
              "        // Manually load scripts from window namespace since requirejs might not be\n",
              "        // available in all browser environments.\n",
              "\n",
              "        // https://github.com/DanielHreben/requirejs-toggle\n",
              "        if (!window.gosling) {\n",
              "\n",
              "            // https://github.com/DanielHreben/requirejs-toggle\n",
              "            window.__requirejsToggleBackup = {\n",
              "                define: window.define,\n",
              "                require: window.require,\n",
              "                requirejs: window.requirejs,\n",
              "            };\n",
              "\n",
              "            for (const field of Object.keys(window.__requirejsToggleBackup)) {\n",
              "                window[field] = undefined;\n",
              "            }\n",
              "\n",
              "            // load dependencies sequentially\n",
              "            const sources = [\n",
              "                \"https://unpkg.com/react@17/umd/react.production.min.js\",\n",
              "                \"https://unpkg.com/react-dom@17/umd/react-dom.production.min.js\",\n",
              "                \"https://unpkg.com/pixi.js@6/dist/browser/pixi.min.js\",\n",
              "                \"https://unpkg.com/higlass@1.11/dist/hglib.js\",\n",
              "                \"https://unpkg.com/gosling.js@0.9.20/dist/gosling.js\",\n",
              "            ];\n",
              "\n",
              "            for (const src of sources) await loadScript(src);\n",
              "\n",
              "            // restore requirejs after scripts have loaded\n",
              "            Object.assign(window, window.__requirejsToggleBackup);\n",
              "            delete window.__requirejsToggleBackup;\n",
              "\n",
              "        }\n",
              "\n",
              "        return window.gosling;\n",
              "    };\n",
              "\n",
              "    var el = document.getElementById('jupyter-gosling-76771d29826d41df9acbaedbd4f2491f');\n",
              "    var spec = {\"tracks\": [{\"data\": {\"type\": \"csv\", \"url\": \"https://raw.githubusercontent.com/Crone06101995/data_dump/main/UCSC.HG38.Human.CytoBandIdeogram_new.csv\", \"separator\": \";\", \"chromosomeField\": \"Chromosome\", \"genomicFields\": [\"chromStart\", \"chromEnd\"]}, \"height\": 180, \"mark\": \"point\", \"width\": 800, \"dataTransform\": [{\"type\": \"filter\", \"field\": \"Chromosome\", \"oneOf\": [\"chr1\"]}, {\"type\": \"filter\", \"field\": \"Location\", \"oneOf\": [\"codon\"], \"not\": true}], \"x\": {\"field\": \"chromStart\", \"type\": \"genomic\"}}]};\n",
              "    var opt = {\"padding\": 0, \"theme\": null};\n",
              "\n",
              "    loadGosling()\n",
              "        .then(gosling => gosling.embed(el, spec, opt))\n",
              "        .catch(err => {\n",
              "            el.innerHTML = `<div class=\"error\">\n",
              "    <p>JavaScript Error: ${error.message}</p>\n",
              "    <p>This usually means there's a typo in your Gosling specification. See the javascript console for the full traceback.</p>\n",
              "</div>`;\n",
              "            throw error;\n",
              "        });\n",
              "  </script>\n",
              "</body>\n",
              "</html>"
            ],
            "text/plain": [
              "View({\n",
              "  tracks: [Track({\n",
              "    data: {'type': 'csv', 'url': 'https://raw.githubusercontent.com/Crone06101995/data_dump/main/UCSC.HG38.Human.CytoBandIdeogram_new.csv', 'separator': ';', 'chromosomeField': 'Chromosome', 'genomicFields': ['chromStart', 'chromEnd']},\n",
              "    dataTransform: [FilterTransform({\n",
              "      field: 'Chromosome',\n",
              "      oneOf: ['chr1'],\n",
              "      type: 'filter'\n",
              "    }), FilterTransform({\n",
              "      field: 'Location',\n",
              "      not: True,\n",
              "      oneOf: ['codon'],\n",
              "      type: 'filter'\n",
              "    })],\n",
              "    height: 180,\n",
              "    mark: 'point',\n",
              "    width: 800,\n",
              "    x: X({\n",
              "      field: 'chromStart',\n",
              "      type: 'genomic'\n",
              "    })\n",
              "  })]\n",
              "})"
            ]
          },
          "metadata": {},
          "execution_count": 29
        }
      ]
    },
    {
      "cell_type": "code",
      "source": [
        "# berechne coverage\n",
        "coverage_data = track.transform_coverage(startField=\"chromStart\", endField=\"chromEnd\", newField=\"cov\")\n",
        "\n",
        "# zeige die coverage als line plot\n",
        "coverage_data.mark_line().encode(\n",
        "    y=gos.Y(\"cov:Q\"),\n",
        "    x=gos.X(\"chromStart:G\")\n",
        ").view()"
      ],
      "metadata": {
        "colab": {
          "base_uri": "https://localhost:8080/",
          "height": 227
        },
        "id": "TSQxZcDwLx9l",
        "outputId": "709bf4e6-3d36-4a90-bd23-8408ce729c8e"
      },
      "execution_count": null,
      "outputs": [
        {
          "output_type": "execute_result",
          "data": {
            "text/html": [
              "\n",
              "<!DOCTYPE html>\n",
              "<html>\n",
              "<head>\n",
              "  <style>.error { color: red; }</style>\n",
              "  <link rel=\"stylesheet\" href=\"https://unpkg.com/higlass@1.11/dist/hglib.css\">\n",
              "</head>\n",
              "<body>\n",
              "  <div id=\"jupyter-gosling-1e52f7c833b64386ae85dbc9f4afe471\"></div>\n",
              "  <script type=\"module\">\n",
              "\n",
              "    async function loadScript(src) {\n",
              "        return new Promise(resolve => {\n",
              "            const script = document.createElement('script');\n",
              "            script.onload = resolve;\n",
              "            script.src = src;\n",
              "            script.async = false;\n",
              "            document.head.appendChild(script);\n",
              "        });\n",
              "    }\n",
              "\n",
              "    async function loadGosling() {\n",
              "        // Manually load scripts from window namespace since requirejs might not be\n",
              "        // available in all browser environments.\n",
              "\n",
              "        // https://github.com/DanielHreben/requirejs-toggle\n",
              "        if (!window.gosling) {\n",
              "\n",
              "            // https://github.com/DanielHreben/requirejs-toggle\n",
              "            window.__requirejsToggleBackup = {\n",
              "                define: window.define,\n",
              "                require: window.require,\n",
              "                requirejs: window.requirejs,\n",
              "            };\n",
              "\n",
              "            for (const field of Object.keys(window.__requirejsToggleBackup)) {\n",
              "                window[field] = undefined;\n",
              "            }\n",
              "\n",
              "            // load dependencies sequentially\n",
              "            const sources = [\n",
              "                \"https://unpkg.com/react@17/umd/react.production.min.js\",\n",
              "                \"https://unpkg.com/react-dom@17/umd/react-dom.production.min.js\",\n",
              "                \"https://unpkg.com/pixi.js@6/dist/browser/pixi.min.js\",\n",
              "                \"https://unpkg.com/higlass@1.11/dist/hglib.js\",\n",
              "                \"https://unpkg.com/gosling.js@0.9.20/dist/gosling.js\",\n",
              "            ];\n",
              "\n",
              "            for (const src of sources) await loadScript(src);\n",
              "\n",
              "            // restore requirejs after scripts have loaded\n",
              "            Object.assign(window, window.__requirejsToggleBackup);\n",
              "            delete window.__requirejsToggleBackup;\n",
              "\n",
              "        }\n",
              "\n",
              "        return window.gosling;\n",
              "    };\n",
              "\n",
              "    var el = document.getElementById('jupyter-gosling-1e52f7c833b64386ae85dbc9f4afe471');\n",
              "    var spec = {\"tracks\": [{\"data\": {\"type\": \"csv\", \"url\": \"https://raw.githubusercontent.com/Crone06101995/data_dump/main/UCSC.HG38.Human.CytoBandIdeogram_new.csv\", \"separator\": \";\", \"chromosomeField\": \"Chromosome\", \"genomicFields\": [\"chromStart\", \"chromEnd\"]}, \"height\": 180, \"mark\": \"line\", \"width\": 800, \"dataTransform\": [{\"endField\": \"chromEnd\", \"startField\": \"chromStart\", \"type\": \"coverage\", \"newField\": \"cov\"}], \"x\": {\"field\": \"chromStart\", \"type\": \"genomic\"}, \"y\": {\"field\": \"cov\", \"type\": \"quantitative\"}}]};\n",
              "    var opt = {\"padding\": 0, \"theme\": null};\n",
              "\n",
              "    loadGosling()\n",
              "        .then(gosling => gosling.embed(el, spec, opt))\n",
              "        .catch(err => {\n",
              "            el.innerHTML = `<div class=\"error\">\n",
              "    <p>JavaScript Error: ${error.message}</p>\n",
              "    <p>This usually means there's a typo in your Gosling specification. See the javascript console for the full traceback.</p>\n",
              "</div>`;\n",
              "            throw error;\n",
              "        });\n",
              "  </script>\n",
              "</body>\n",
              "</html>"
            ],
            "text/plain": [
              "View({\n",
              "  tracks: [Track({\n",
              "    data: {'type': 'csv', 'url': 'https://raw.githubusercontent.com/Crone06101995/data_dump/main/UCSC.HG38.Human.CytoBandIdeogram_new.csv', 'separator': ';', 'chromosomeField': 'Chromosome', 'genomicFields': ['chromStart', 'chromEnd']},\n",
              "    dataTransform: [CoverageTransform({\n",
              "      endField: 'chromEnd',\n",
              "      newField: 'cov',\n",
              "      startField: 'chromStart',\n",
              "      type: 'coverage'\n",
              "    })],\n",
              "    height: 180,\n",
              "    mark: 'line',\n",
              "    width: 800,\n",
              "    x: X({\n",
              "      field: 'chromStart',\n",
              "      type: 'genomic'\n",
              "    }),\n",
              "    y: Y({\n",
              "      field: 'cov',\n",
              "      type: 'quantitative'\n",
              "    })\n",
              "  })]\n",
              "})"
            ]
          },
          "metadata": {},
          "execution_count": 28
        }
      ]
    },
    {
      "cell_type": "markdown",
      "source": [
        "---\n",
        "\n",
        "## Erste Visualisierung (Hands On)\n",
        "\n",
        "Du hast nun alle Infos, um folgende Aufgabe selbst zu visualisieren.\n",
        "\n",
        "Benutze den Datensatz *data* und filtere ihn so, dass er nur noch Datenpunkte der Chromosomen 1, 3 und 5 besitzt. \\\n",
        "Dann filtere erneut nach \"Splice\" in der nominalen \"Location\"-Spalte unseres Datensatzes. \\\n",
        "Erstelle nun ein Scatter-Plot, welches die \"Location\" auf den genomischen Positionen darstellt. \\\n",
        "Vergesse nicht, dir den Track mit der *view( )* anzeigen zu lassen!\n",
        "\n",
        "- benutze *data*\n",
        "- filtere Chromosom 1,3,5\n",
        "  - .transform_filter()\n",
        "- filtere nach Spalte *Location* nach *splice* (Splice Sites)\n",
        "  - .transform_filter()\n",
        "- erstelle ein Scatter Plot\n",
        "  - .mark_point()\n",
        "- trage als X-Achse *chromStart* auf und als Y-Achse *Location* auf (achte auf die Types)\n",
        "  - .encode()\n",
        "  - gos.X()\n",
        "  - gos.Y()\n",
        "- lass dir deinen ersten Track darstellen\n",
        "  - .view()"
      ],
      "metadata": {
        "id": "ohlJ254yrH9S"
      }
    },
    {
      "cell_type": "code",
      "source": [
        "your_track = ... # nehme den data Track oder erstelle dir einen neuen\n",
        "\n",
        "your_tack = your_track.transform_filter( ... ) # filter nach Chr 1, 3, 5\n",
        "your_tack = your_track.transform_filter( ... ) # filter nach splice Sites\n",
        "\n",
        "your_track = your_track.mark_point().encode(\n",
        "    x=gos.X( ... ), # setze X-Achse\n",
        "    y=gos.Y( ... ), # setze Y-Achse\n",
        ")\n",
        "\n",
        "your_track.view() # visualisiere deinen track"
      ],
      "metadata": {
        "id": "EHa3r0IEs9q4"
      },
      "execution_count": null,
      "outputs": []
    },
    {
      "cell_type": "markdown",
      "source": [
        "---\n",
        "---\n",
        "\n",
        "Das Ende von Teiltutorial **01_Datenaufbereitung**. \\\n",
        "Hier findest du das nächste [Tutorial](https://colab.research.google.com/drive/1_-VCzxuDhxIDSPjx-S2mBZfkurWw7Dnr?usp=sharing)."
      ],
      "metadata": {
        "id": "OCpv5Akht8NR"
      }
    }
  ]
}